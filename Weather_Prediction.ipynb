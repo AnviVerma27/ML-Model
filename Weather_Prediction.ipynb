{
  "nbformat": 4,
  "nbformat_minor": 0,
  "metadata": {
    "colab": {
      "provenance": [],
      "authorship_tag": "ABX9TyP0i1Ko67MkwCSNy9nAp3K+",
      "include_colab_link": true
    },
    "kernelspec": {
      "name": "python3",
      "display_name": "Python 3"
    },
    "language_info": {
      "name": "python"
    }
  },
  "cells": [
    {
      "cell_type": "markdown",
      "metadata": {
        "id": "view-in-github",
        "colab_type": "text"
      },
      "source": [
        "<a href=\"https://colab.research.google.com/github/AnviVerma27/ML-model/blob/master/Weather_Prediction.ipynb\" target=\"_parent\"><img src=\"https://colab.research.google.com/assets/colab-badge.svg\" alt=\"Open In Colab\"/></a>"
      ]
    },
    {
      "cell_type": "code",
      "execution_count": null,
      "metadata": {
        "id": "oWjwurhfqTNf"
      },
      "outputs": [],
      "source": [
        "import tensorflow_probability as tfp\n",
        "import tensorflow as tf"
      ]
    },
    {
      "cell_type": "markdown",
      "source": [
        "1. Cold days are encoded as 0 and hot days are encoded by 1.\n",
        "2. The first day in pur sequence has 80% chances of being cold.\n",
        "3. A cold day has a 30% chances of being followed by hot day.\n",
        "4. A hot day has 20% chances of being followed by a cold day.\n",
        "5. On each day tje tem[p is normally distributed with mean and standard deviation 0 and 5 on a cold and a mean and standard deviation 15 and 10 on a hot day\n"
      ],
      "metadata": {
        "id": "lfs2iw5yrvdU"
      }
    },
    {
      "cell_type": "code",
      "source": [
        "tfd = tfp.distributions\n",
        "initial_distribution = tfd.Categorical(probs=[0.8,0.2])\n",
        "transition_distribution = tfd.Categorical(probs=[[0.7,0.3],[0.2,0.8]])\n",
        "observation_distribution = tfd.Normal(loc=[0.,15.], scale=[5.,10.])"
      ],
      "metadata": {
        "id": "qmChEBgcqwGz"
      },
      "execution_count": null,
      "outputs": []
    },
    {
      "cell_type": "code",
      "source": [
        "model = tfd.HiddenMarkovModel(initial_distribution=initial_distribution,transition_distribution=transition_distribution, observation_distribution=observation_distribution, num_steps=7)"
      ],
      "metadata": {
        "id": "xEhsAPcwuFAD"
      },
      "execution_count": null,
      "outputs": []
    },
    {
      "cell_type": "code",
      "source": [
        "mean = model.mean()\n",
        "with tf.compat.v1.Session() as sess:\n",
        "  print(mean.numpy())"
      ],
      "metadata": {
        "colab": {
          "base_uri": "https://localhost:8080/"
        },
        "id": "EglSBAyyuzPc",
        "outputId": "f8e9d0cb-5dc5-474f-defb-208a5b252650"
      },
      "execution_count": null,
      "outputs": [
        {
          "output_type": "stream",
          "name": "stdout",
          "text": [
            "[3.        5.9999995 7.4999995 8.25      8.625001  8.812501  8.90625  ]\n"
          ]
        }
      ]
    },
    {
      "cell_type": "code",
      "source": [],
      "metadata": {
        "id": "8QpsM0G2vsHm"
      },
      "execution_count": null,
      "outputs": []
    }
  ]
}